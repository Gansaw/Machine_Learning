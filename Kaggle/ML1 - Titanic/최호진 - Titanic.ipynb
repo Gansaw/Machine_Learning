{
  "cells": [
    {
      "cell_type": "markdown",
      "metadata": {
        "id": "KF9OqAZrQcBs"
      },
      "source": [
        "# **Titanic : Machine Learning from Disaster**\n",
        "\n",
        "+ date : 2023.09.26.(화) <br>\n",
        "+ author : 최호진 <br>\n",
        "+ project : 개인 프로젝트<br>\n",
        "+ github : https://github.com/Gansaw <br>\n",
        "+ tistory : https://gansaw12.tistory.com <br>\n",
        "+ email : gansaw12@gmail.com <br><br>\n",
        "\n",
        "---\n",
        "\n"
      ]
    },
    {
      "cell_type": "markdown",
      "metadata": {
        "id": "xpqpsI_uPwrG"
      },
      "source": [
        "# 1. 목표 #\n",
        "\n",
        "  + Titanic 데이터를 싸이킷런을 이용하여 데이터를 분석한다.\n",
        "  + 생존 여부의 정보가 담겨 있는 train 데이터셋을 학습한다.\n",
        "  + 학습 후 생존 여부의 정보가 담겨있지 않는 test 데이터셋을 예측한다."
      ]
    },
    {
      "cell_type": "markdown",
      "metadata": {
        "id": "NWP4ufasPwrG"
      },
      "source": [
        "a. 데이터 분석에 필요한 기본 library를 import한다.\n",
        "\n",
        "    numpy\n",
        "    matplotlib\n",
        "    pandas\n",
        "    seaborn\n",
        "    sklearn"
      ]
    },
    {
      "cell_type": "code",
      "execution_count": 1,
      "metadata": {
        "id": "PO_w4YukPwrH"
      },
      "outputs": [],
      "source": [
        "import numpy as np\n",
        "import matplotlib.pyplot as plt\n",
        "import pandas as pd\n",
        "import seaborn as sns\n",
        "import sklearn"
      ]
    },
    {
      "cell_type": "markdown",
      "metadata": {
        "id": "1Y_679m0PwrH"
      },
      "source": [
        "b. pandas를 이용하여 titanic 데이터셋을 불러온다.\n",
        "\n",
        "    train : train.csv\n",
        "    test : test.csv"
      ]
    },
    {
      "cell_type": "code",
      "execution_count": 2,
      "metadata": {
        "colab": {
          "base_uri": "https://localhost:8080/",
          "height": 393
        },
        "id": "51-7kJM-PwrH",
        "outputId": "0090b9c9-fcd2-42f5-9a6c-0cdaf0195f88"
      },
      "outputs": [
        {
          "name": "stdout",
          "output_type": "stream",
          "text": [
            "     PassengerId  Survived  Pclass  \\\n",
            "0              1         0       3   \n",
            "1              2         1       1   \n",
            "2              3         1       3   \n",
            "3              4         1       1   \n",
            "4              5         0       3   \n",
            "..           ...       ...     ...   \n",
            "886          887         0       2   \n",
            "887          888         1       1   \n",
            "888          889         0       3   \n",
            "889          890         1       1   \n",
            "890          891         0       3   \n",
            "\n",
            "                                                  Name     Sex   Age  SibSp  \\\n",
            "0                              Braund, Mr. Owen Harris    male  22.0      1   \n",
            "1    Cumings, Mrs. John Bradley (Florence Briggs Th...  female  38.0      1   \n",
            "2                               Heikkinen, Miss. Laina  female  26.0      0   \n",
            "3         Futrelle, Mrs. Jacques Heath (Lily May Peel)  female  35.0      1   \n",
            "4                             Allen, Mr. William Henry    male  35.0      0   \n",
            "..                                                 ...     ...   ...    ...   \n",
            "886                              Montvila, Rev. Juozas    male  27.0      0   \n",
            "887                       Graham, Miss. Margaret Edith  female  19.0      0   \n",
            "888           Johnston, Miss. Catherine Helen \"Carrie\"  female   NaN      1   \n",
            "889                              Behr, Mr. Karl Howell    male  26.0      0   \n",
            "890                                Dooley, Mr. Patrick    male  32.0      0   \n",
            "\n",
            "     Parch            Ticket     Fare Cabin Embarked  \n",
            "0        0         A/5 21171   7.2500   NaN        S  \n",
            "1        0          PC 17599  71.2833   C85        C  \n",
            "2        0  STON/O2. 3101282   7.9250   NaN        S  \n",
            "3        0            113803  53.1000  C123        S  \n",
            "4        0            373450   8.0500   NaN        S  \n",
            "..     ...               ...      ...   ...      ...  \n",
            "886      0            211536  13.0000   NaN        S  \n",
            "887      0            112053  30.0000   B42        S  \n",
            "888      2        W./C. 6607  23.4500   NaN        S  \n",
            "889      0            111369  30.0000  C148        C  \n",
            "890      0            370376   7.7500   NaN        Q  \n",
            "\n",
            "[891 rows x 12 columns]\n",
            "     PassengerId  Pclass                                          Name  \\\n",
            "0            892       3                              Kelly, Mr. James   \n",
            "1            893       3              Wilkes, Mrs. James (Ellen Needs)   \n",
            "2            894       2                     Myles, Mr. Thomas Francis   \n",
            "3            895       3                              Wirz, Mr. Albert   \n",
            "4            896       3  Hirvonen, Mrs. Alexander (Helga E Lindqvist)   \n",
            "..           ...     ...                                           ...   \n",
            "413         1305       3                            Spector, Mr. Woolf   \n",
            "414         1306       1                  Oliva y Ocana, Dona. Fermina   \n",
            "415         1307       3                  Saether, Mr. Simon Sivertsen   \n",
            "416         1308       3                           Ware, Mr. Frederick   \n",
            "417         1309       3                      Peter, Master. Michael J   \n",
            "\n",
            "        Sex   Age  SibSp  Parch              Ticket      Fare Cabin Embarked  \n",
            "0      male  34.5      0      0              330911    7.8292   NaN        Q  \n",
            "1    female  47.0      1      0              363272    7.0000   NaN        S  \n",
            "2      male  62.0      0      0              240276    9.6875   NaN        Q  \n",
            "3      male  27.0      0      0              315154    8.6625   NaN        S  \n",
            "4    female  22.0      1      1             3101298   12.2875   NaN        S  \n",
            "..      ...   ...    ...    ...                 ...       ...   ...      ...  \n",
            "413    male   NaN      0      0           A.5. 3236    8.0500   NaN        S  \n",
            "414  female  39.0      0      0            PC 17758  108.9000  C105        C  \n",
            "415    male  38.5      0      0  SOTON/O.Q. 3101262    7.2500   NaN        S  \n",
            "416    male   NaN      0      0              359309    8.0500   NaN        S  \n",
            "417    male   NaN      1      1                2668   22.3583   NaN        C  \n",
            "\n",
            "[418 rows x 11 columns]\n"
          ]
        }
      ],
      "source": [
        "train = pd.read_csv(\"train.csv\")\n",
        "print(train)\n",
        "\n",
        "test = pd.read_csv(\"test.csv\")\n",
        "print(test)"
      ]
    },
    {
      "cell_type": "markdown",
      "metadata": {
        "id": "_MSwGONVPwrI"
      },
      "source": [
        "c. head 함수를 이용하여 데이터프레임의 상위 5개의 정보를 확인한다."
      ]
    },
    {
      "cell_type": "code",
      "execution_count": 3,
      "metadata": {
        "id": "WuucW-nVPwrI"
      },
      "outputs": [
        {
          "data": {
            "text/html": [
              "<div>\n",
              "<style scoped>\n",
              "    .dataframe tbody tr th:only-of-type {\n",
              "        vertical-align: middle;\n",
              "    }\n",
              "\n",
              "    .dataframe tbody tr th {\n",
              "        vertical-align: top;\n",
              "    }\n",
              "\n",
              "    .dataframe thead th {\n",
              "        text-align: right;\n",
              "    }\n",
              "</style>\n",
              "<table border=\"1\" class=\"dataframe\">\n",
              "  <thead>\n",
              "    <tr style=\"text-align: right;\">\n",
              "      <th></th>\n",
              "      <th>PassengerId</th>\n",
              "      <th>Survived</th>\n",
              "      <th>Pclass</th>\n",
              "      <th>Name</th>\n",
              "      <th>Sex</th>\n",
              "      <th>Age</th>\n",
              "      <th>SibSp</th>\n",
              "      <th>Parch</th>\n",
              "      <th>Ticket</th>\n",
              "      <th>Fare</th>\n",
              "      <th>Cabin</th>\n",
              "      <th>Embarked</th>\n",
              "    </tr>\n",
              "  </thead>\n",
              "  <tbody>\n",
              "    <tr>\n",
              "      <th>0</th>\n",
              "      <td>1</td>\n",
              "      <td>0</td>\n",
              "      <td>3</td>\n",
              "      <td>Braund, Mr. Owen Harris</td>\n",
              "      <td>male</td>\n",
              "      <td>22.0</td>\n",
              "      <td>1</td>\n",
              "      <td>0</td>\n",
              "      <td>A/5 21171</td>\n",
              "      <td>7.2500</td>\n",
              "      <td>NaN</td>\n",
              "      <td>S</td>\n",
              "    </tr>\n",
              "    <tr>\n",
              "      <th>1</th>\n",
              "      <td>2</td>\n",
              "      <td>1</td>\n",
              "      <td>1</td>\n",
              "      <td>Cumings, Mrs. John Bradley (Florence Briggs Th...</td>\n",
              "      <td>female</td>\n",
              "      <td>38.0</td>\n",
              "      <td>1</td>\n",
              "      <td>0</td>\n",
              "      <td>PC 17599</td>\n",
              "      <td>71.2833</td>\n",
              "      <td>C85</td>\n",
              "      <td>C</td>\n",
              "    </tr>\n",
              "    <tr>\n",
              "      <th>2</th>\n",
              "      <td>3</td>\n",
              "      <td>1</td>\n",
              "      <td>3</td>\n",
              "      <td>Heikkinen, Miss. Laina</td>\n",
              "      <td>female</td>\n",
              "      <td>26.0</td>\n",
              "      <td>0</td>\n",
              "      <td>0</td>\n",
              "      <td>STON/O2. 3101282</td>\n",
              "      <td>7.9250</td>\n",
              "      <td>NaN</td>\n",
              "      <td>S</td>\n",
              "    </tr>\n",
              "    <tr>\n",
              "      <th>3</th>\n",
              "      <td>4</td>\n",
              "      <td>1</td>\n",
              "      <td>1</td>\n",
              "      <td>Futrelle, Mrs. Jacques Heath (Lily May Peel)</td>\n",
              "      <td>female</td>\n",
              "      <td>35.0</td>\n",
              "      <td>1</td>\n",
              "      <td>0</td>\n",
              "      <td>113803</td>\n",
              "      <td>53.1000</td>\n",
              "      <td>C123</td>\n",
              "      <td>S</td>\n",
              "    </tr>\n",
              "    <tr>\n",
              "      <th>4</th>\n",
              "      <td>5</td>\n",
              "      <td>0</td>\n",
              "      <td>3</td>\n",
              "      <td>Allen, Mr. William Henry</td>\n",
              "      <td>male</td>\n",
              "      <td>35.0</td>\n",
              "      <td>0</td>\n",
              "      <td>0</td>\n",
              "      <td>373450</td>\n",
              "      <td>8.0500</td>\n",
              "      <td>NaN</td>\n",
              "      <td>S</td>\n",
              "    </tr>\n",
              "  </tbody>\n",
              "</table>\n",
              "</div>"
            ],
            "text/plain": [
              "   PassengerId  Survived  Pclass  \\\n",
              "0            1         0       3   \n",
              "1            2         1       1   \n",
              "2            3         1       3   \n",
              "3            4         1       1   \n",
              "4            5         0       3   \n",
              "\n",
              "                                                Name     Sex   Age  SibSp  \\\n",
              "0                            Braund, Mr. Owen Harris    male  22.0      1   \n",
              "1  Cumings, Mrs. John Bradley (Florence Briggs Th...  female  38.0      1   \n",
              "2                             Heikkinen, Miss. Laina  female  26.0      0   \n",
              "3       Futrelle, Mrs. Jacques Heath (Lily May Peel)  female  35.0      1   \n",
              "4                           Allen, Mr. William Henry    male  35.0      0   \n",
              "\n",
              "   Parch            Ticket     Fare Cabin Embarked  \n",
              "0      0         A/5 21171   7.2500   NaN        S  \n",
              "1      0          PC 17599  71.2833   C85        C  \n",
              "2      0  STON/O2. 3101282   7.9250   NaN        S  \n",
              "3      0            113803  53.1000  C123        S  \n",
              "4      0            373450   8.0500   NaN        S  "
            ]
          },
          "execution_count": 3,
          "metadata": {},
          "output_type": "execute_result"
        }
      ],
      "source": [
        "train.head()"
      ]
    },
    {
      "cell_type": "markdown",
      "metadata": {
        "id": "cJdv1TrdPwrI"
      },
      "source": [
        "d. info 함수를 이용하여 기본적인 데이터 구성을 파악한다."
      ]
    },
    {
      "cell_type": "code",
      "execution_count": 4,
      "metadata": {
        "id": "p1Lfu5zyPwrI"
      },
      "outputs": [
        {
          "name": "stdout",
          "output_type": "stream",
          "text": [
            "<class 'pandas.core.frame.DataFrame'>\n",
            "RangeIndex: 891 entries, 0 to 890\n",
            "Data columns (total 12 columns):\n",
            " #   Column       Non-Null Count  Dtype  \n",
            "---  ------       --------------  -----  \n",
            " 0   PassengerId  891 non-null    int64  \n",
            " 1   Survived     891 non-null    int64  \n",
            " 2   Pclass       891 non-null    int64  \n",
            " 3   Name         891 non-null    object \n",
            " 4   Sex          891 non-null    object \n",
            " 5   Age          714 non-null    float64\n",
            " 6   SibSp        891 non-null    int64  \n",
            " 7   Parch        891 non-null    int64  \n",
            " 8   Ticket       891 non-null    object \n",
            " 9   Fare         891 non-null    float64\n",
            " 10  Cabin        204 non-null    object \n",
            " 11  Embarked     889 non-null    object \n",
            "dtypes: float64(2), int64(5), object(5)\n",
            "memory usage: 83.7+ KB\n"
          ]
        }
      ],
      "source": [
        "train.info()"
      ]
    },
    {
      "cell_type": "markdown",
      "metadata": {
        "id": "zQ9SyKjePwrI"
      },
      "source": [
        "# 2. 탐색적 데이터 분석(EDA)\n",
        "\n",
        "  + 시각화를 통해 변수의 분포와 특성을 파악한다.\n",
        "  + 탑승, 등급, 성별, 나이에 대한 정보를 확인한다.\n",
        "  + Survived에서 0은 사망, 1은 생존을 나타낸다."
      ]
    },
    {
      "cell_type": "markdown",
      "metadata": {
        "id": "x8fmPjBXPwrI"
      },
      "source": [
        "a. 전체 인원에 대한 생존률 확인"
      ]
    },
    {
      "cell_type": "code",
      "execution_count": 5,
      "metadata": {
        "id": "gNSA1AXJPwrJ"
      },
      "outputs": [
        {
          "data": {
            "image/png": "[encoded data removed]",
            "text/plain": [
              "<Figure size 1000x600 with 2 Axes>"
            ]
          },
          "metadata": {},
          "output_type": "display_data"
        }
      ],
      "source": [
        "# 생존률 계산\n",
        "survival_counts = train[\"Survived\"].value_counts()\n",
        "total_passengers = len(train)\n",
        "survival_rate = survival_counts / total_passengers\n",
        "\n",
        "# subplot 생성\n",
        "fig, ax = plt.subplots(1, 2, figsize=(10, 6))\n",
        "\n",
        "# 생존률 그래프 (파이 그래프)\n",
        "labels = [\"Dead\", \"Survived\"]\n",
        "explode = (0,0.1)\n",
        "ax[0].pie(survival_rate, explode = explode, labels=labels, autopct='%1.2f%%')\n",
        "ax[0].set_title(\"Survival Rate\")\n",
        "\n",
        "# 생존 여부 그래프 (막대 그래프)\n",
        "ax[1].bar(labels, survival_counts, color=[\"red\", \"blue\"])\n",
        "ax[1].set_ylabel(\"Count\")\n",
        "ax[1].set_title(\"Survival Count\")\n",
        "\n",
        "# 막대 그래프 위에 수치 표시 (written by chat-gpt)\n",
        "for i, count in enumerate(survival_counts):\n",
        "    ax[1].text(i, count, f'{count}', ha='center', va='bottom')\n",
        "\n",
        "# 그래프 도출\n",
        "plt.show()"
      ]
    },
    {
      "cell_type": "markdown",
      "metadata": {
        "id": "guuNyhufPwrJ"
      },
      "source": [
        "b. 생존률에 대한 특정 관계 확인"
      ]
    },
    {
      "cell_type": "code",
      "execution_count": 6,
      "metadata": {
        "id": "PEfEfAl3PwrJ"
      },
      "outputs": [
        {
          "data": {
            "image/png": "[encoded data removed]",
            "text/plain": [
              "<Figure size 1000x600 with 2 Axes>"
            ]
          },
          "metadata": {},
          "output_type": "display_data"
        }
      ],
      "source": [
        "# 생존률 계산\n",
        "survival_counts = train[\"Survived\"].value_counts()\n",
        "total_passengers = len(train)\n",
        "survival_rate = survival_counts / total_passengers\n",
        "\n",
        "# subplot 생성\n",
        "fig, ax = plt.subplots(1, 2, figsize=(10, 6))\n",
        "\n",
        "# 바이올린 그래프 1 (Pclass & Age for Survived)\n",
        "sns.violinplot(x='Pclass', y='Age', hue='Survived', data=train, split=True, ax=ax[0])\n",
        "ax[0].set_title('Age & Pclass (Survived)')\n",
        "\n",
        "# 바이올린 그래프 2 (Sex & Age for Survived)\n",
        "sns.violinplot(x='Sex', y='Age', hue='Survived', data=train, split=True, ax=ax[1])\n",
        "ax[1].set_title('Sex & Age (Survived)')\n",
        "\n",
        "plt.show()"
      ]
    },
    {
      "cell_type": "markdown",
      "metadata": {
        "id": "yBUSwtssPwrJ"
      },
      "source": [
        "c. 탐색적 데이터 분석(EDA) 결론\n",
        "\n",
        "  + 전체 승객 891명 중 549명 사망(61.62%), 342명 생존(38.38%)\n",
        "  + 1등급 객실(Pclass)의 30대(Age)가 생존률이 높음\n",
        "  + 20~30대(Age) 여성(Sex)이 생존률이 높음"
      ]
    },
    {
      "cell_type": "markdown",
      "metadata": {
        "id": "OyDMEtYpPwrJ"
      },
      "source": [
        "# 3. 데이터 전처리(Data Preprocessing)\n",
        "\n",
        "  + 결측치를 확인하고 결측치가 있다면 제거하거나 대체한다.\n",
        "  + 현재 Age, Embarked, Cabin에 결측치가 존재한다.(train.info()를 통해 확인 가능)\n",
        "  + Cabin은 중요한 데이터가 아니므로 결측치를 처리하지 않는다.\n",
        "  + Age는 결측치를 평균값을 이용하여 대체하는 방안으로 진행한다.(결측치가 많음)\n",
        "  + Embarked는 결측치를 제거한다.(결측치가 적음)"
      ]
    },
    {
      "cell_type": "markdown",
      "metadata": {
        "id": "X-Gu7EylPwrJ"
      },
      "source": [
        "a. Age 결측치(missing value)\n",
        "\n",
        "  + 승객의 이름을 활용하여 177개의 Age 결측치를 처리한다.\n",
        "  + 정규표현식을 사용하여 승객의 이니셜을 가져와서 이니셜 별 평균을 구한다.\n",
        "  + pandas를 활용하여 데아터프레임에 이니셜 열을 추가한다."
      ]
    },
    {
      "cell_type": "code",
      "execution_count": 7,
      "metadata": {
        "id": "1TgOTRFTPwrK"
      },
      "outputs": [
        {
          "name": "stdout",
          "output_type": "stream",
          "text": [
            "<train data>\n"
          ]
        },
        {
          "data": {
            "text/html": [
              "<style type=\"text/css\">\n",
              "#T_61ed1_row0_col0, #T_61ed1_row0_col1, #T_61ed1_row0_col3, #T_61ed1_row0_col4, #T_61ed1_row0_col5, #T_61ed1_row0_col7, #T_61ed1_row0_col8, #T_61ed1_row0_col12, #T_61ed1_row0_col15, #T_61ed1_row0_col16, #T_61ed1_row1_col2, #T_61ed1_row1_col6, #T_61ed1_row1_col9, #T_61ed1_row1_col10, #T_61ed1_row1_col11, #T_61ed1_row1_col13, #T_61ed1_row1_col14 {\n",
              "  background-color: #3b4cc0;\n",
              "  color: #f1f1f1;\n",
              "}\n",
              "#T_61ed1_row0_col2, #T_61ed1_row0_col6, #T_61ed1_row0_col9, #T_61ed1_row0_col10, #T_61ed1_row0_col11, #T_61ed1_row0_col13, #T_61ed1_row0_col14, #T_61ed1_row1_col0, #T_61ed1_row1_col1, #T_61ed1_row1_col3, #T_61ed1_row1_col4, #T_61ed1_row1_col5, #T_61ed1_row1_col7, #T_61ed1_row1_col8, #T_61ed1_row1_col12, #T_61ed1_row1_col15, #T_61ed1_row1_col16 {\n",
              "  background-color: #b40426;\n",
              "  color: #f1f1f1;\n",
              "}\n",
              "</style>\n",
              "<table id=\"T_61ed1\">\n",
              "  <thead>\n",
              "    <tr>\n",
              "      <th class=\"index_name level0\" >Initial</th>\n",
              "      <th id=\"T_61ed1_level0_col0\" class=\"col_heading level0 col0\" >Capt</th>\n",
              "      <th id=\"T_61ed1_level0_col1\" class=\"col_heading level0 col1\" >Col</th>\n",
              "      <th id=\"T_61ed1_level0_col2\" class=\"col_heading level0 col2\" >Countess</th>\n",
              "      <th id=\"T_61ed1_level0_col3\" class=\"col_heading level0 col3\" >Don</th>\n",
              "      <th id=\"T_61ed1_level0_col4\" class=\"col_heading level0 col4\" >Dr</th>\n",
              "      <th id=\"T_61ed1_level0_col5\" class=\"col_heading level0 col5\" >Jonkheer</th>\n",
              "      <th id=\"T_61ed1_level0_col6\" class=\"col_heading level0 col6\" >Lady</th>\n",
              "      <th id=\"T_61ed1_level0_col7\" class=\"col_heading level0 col7\" >Major</th>\n",
              "      <th id=\"T_61ed1_level0_col8\" class=\"col_heading level0 col8\" >Master</th>\n",
              "      <th id=\"T_61ed1_level0_col9\" class=\"col_heading level0 col9\" >Miss</th>\n",
              "      <th id=\"T_61ed1_level0_col10\" class=\"col_heading level0 col10\" >Mlle</th>\n",
              "      <th id=\"T_61ed1_level0_col11\" class=\"col_heading level0 col11\" >Mme</th>\n",
              "      <th id=\"T_61ed1_level0_col12\" class=\"col_heading level0 col12\" >Mr</th>\n",
              "      <th id=\"T_61ed1_level0_col13\" class=\"col_heading level0 col13\" >Mrs</th>\n",
              "      <th id=\"T_61ed1_level0_col14\" class=\"col_heading level0 col14\" >Ms</th>\n",
              "      <th id=\"T_61ed1_level0_col15\" class=\"col_heading level0 col15\" >Rev</th>\n",
              "      <th id=\"T_61ed1_level0_col16\" class=\"col_heading level0 col16\" >Sir</th>\n",
              "    </tr>\n",
              "    <tr>\n",
              "      <th class=\"index_name level0\" >Sex</th>\n",
              "      <th class=\"blank col0\" >&nbsp;</th>\n",
              "      <th class=\"blank col1\" >&nbsp;</th>\n",
              "      <th class=\"blank col2\" >&nbsp;</th>\n",
              "      <th class=\"blank col3\" >&nbsp;</th>\n",
              "      <th class=\"blank col4\" >&nbsp;</th>\n",
              "      <th class=\"blank col5\" >&nbsp;</th>\n",
              "      <th class=\"blank col6\" >&nbsp;</th>\n",
              "      <th class=\"blank col7\" >&nbsp;</th>\n",
              "      <th class=\"blank col8\" >&nbsp;</th>\n",
              "      <th class=\"blank col9\" >&nbsp;</th>\n",
              "      <th class=\"blank col10\" >&nbsp;</th>\n",
              "      <th class=\"blank col11\" >&nbsp;</th>\n",
              "      <th class=\"blank col12\" >&nbsp;</th>\n",
              "      <th class=\"blank col13\" >&nbsp;</th>\n",
              "      <th class=\"blank col14\" >&nbsp;</th>\n",
              "      <th class=\"blank col15\" >&nbsp;</th>\n",
              "      <th class=\"blank col16\" >&nbsp;</th>\n",
              "    </tr>\n",
              "  </thead>\n",
              "  <tbody>\n",
              "    <tr>\n",
              "      <th id=\"T_61ed1_level0_row0\" class=\"row_heading level0 row0\" >female</th>\n",
              "      <td id=\"T_61ed1_row0_col0\" class=\"data row0 col0\" >0</td>\n",
              "      <td id=\"T_61ed1_row0_col1\" class=\"data row0 col1\" >0</td>\n",
              "      <td id=\"T_61ed1_row0_col2\" class=\"data row0 col2\" >1</td>\n",
              "      <td id=\"T_61ed1_row0_col3\" class=\"data row0 col3\" >0</td>\n",
              "      <td id=\"T_61ed1_row0_col4\" class=\"data row0 col4\" >1</td>\n",
              "      <td id=\"T_61ed1_row0_col5\" class=\"data row0 col5\" >0</td>\n",
              "      <td id=\"T_61ed1_row0_col6\" class=\"data row0 col6\" >1</td>\n",
              "      <td id=\"T_61ed1_row0_col7\" class=\"data row0 col7\" >0</td>\n",
              "      <td id=\"T_61ed1_row0_col8\" class=\"data row0 col8\" >0</td>\n",
              "      <td id=\"T_61ed1_row0_col9\" class=\"data row0 col9\" >182</td>\n",
              "      <td id=\"T_61ed1_row0_col10\" class=\"data row0 col10\" >2</td>\n",
              "      <td id=\"T_61ed1_row0_col11\" class=\"data row0 col11\" >1</td>\n",
              "      <td id=\"T_61ed1_row0_col12\" class=\"data row0 col12\" >0</td>\n",
              "      <td id=\"T_61ed1_row0_col13\" class=\"data row0 col13\" >125</td>\n",
              "      <td id=\"T_61ed1_row0_col14\" class=\"data row0 col14\" >1</td>\n",
              "      <td id=\"T_61ed1_row0_col15\" class=\"data row0 col15\" >0</td>\n",
              "      <td id=\"T_61ed1_row0_col16\" class=\"data row0 col16\" >0</td>\n",
              "    </tr>\n",
              "    <tr>\n",
              "      <th id=\"T_61ed1_level0_row1\" class=\"row_heading level0 row1\" >male</th>\n",
              "      <td id=\"T_61ed1_row1_col0\" class=\"data row1 col0\" >1</td>\n",
              "      <td id=\"T_61ed1_row1_col1\" class=\"data row1 col1\" >2</td>\n",
              "      <td id=\"T_61ed1_row1_col2\" class=\"data row1 col2\" >0</td>\n",
              "      <td id=\"T_61ed1_row1_col3\" class=\"data row1 col3\" >1</td>\n",
              "      <td id=\"T_61ed1_row1_col4\" class=\"data row1 col4\" >6</td>\n",
              "      <td id=\"T_61ed1_row1_col5\" class=\"data row1 col5\" >1</td>\n",
              "      <td id=\"T_61ed1_row1_col6\" class=\"data row1 col6\" >0</td>\n",
              "      <td id=\"T_61ed1_row1_col7\" class=\"data row1 col7\" >2</td>\n",
              "      <td id=\"T_61ed1_row1_col8\" class=\"data row1 col8\" >40</td>\n",
              "      <td id=\"T_61ed1_row1_col9\" class=\"data row1 col9\" >0</td>\n",
              "      <td id=\"T_61ed1_row1_col10\" class=\"data row1 col10\" >0</td>\n",
              "      <td id=\"T_61ed1_row1_col11\" class=\"data row1 col11\" >0</td>\n",
              "      <td id=\"T_61ed1_row1_col12\" class=\"data row1 col12\" >517</td>\n",
              "      <td id=\"T_61ed1_row1_col13\" class=\"data row1 col13\" >0</td>\n",
              "      <td id=\"T_61ed1_row1_col14\" class=\"data row1 col14\" >0</td>\n",
              "      <td id=\"T_61ed1_row1_col15\" class=\"data row1 col15\" >6</td>\n",
              "      <td id=\"T_61ed1_row1_col16\" class=\"data row1 col16\" >1</td>\n",
              "    </tr>\n",
              "  </tbody>\n",
              "</table>\n"
            ],
            "text/plain": [
              "<pandas.io.formats.style.Styler at 0x28d67259bd0>"
            ]
          },
          "metadata": {},
          "output_type": "display_data"
        },
        {
          "name": "stdout",
          "output_type": "stream",
          "text": [
            "\n",
            "<test data>\n"
          ]
        },
        {
          "data": {
            "text/html": [
              "<style type=\"text/css\">\n",
              "#T_4442b_row0_col0, #T_4442b_row0_col2, #T_4442b_row0_col3, #T_4442b_row0_col5, #T_4442b_row0_col8, #T_4442b_row1_col1, #T_4442b_row1_col4, #T_4442b_row1_col6, #T_4442b_row1_col7 {\n",
              "  background-color: #3b4cc0;\n",
              "  color: #f1f1f1;\n",
              "}\n",
              "#T_4442b_row0_col1, #T_4442b_row0_col4, #T_4442b_row0_col6, #T_4442b_row0_col7, #T_4442b_row1_col0, #T_4442b_row1_col2, #T_4442b_row1_col3, #T_4442b_row1_col5, #T_4442b_row1_col8 {\n",
              "  background-color: #b40426;\n",
              "  color: #f1f1f1;\n",
              "}\n",
              "</style>\n",
              "<table id=\"T_4442b\">\n",
              "  <thead>\n",
              "    <tr>\n",
              "      <th class=\"index_name level0\" >Initial</th>\n",
              "      <th id=\"T_4442b_level0_col0\" class=\"col_heading level0 col0\" >Col</th>\n",
              "      <th id=\"T_4442b_level0_col1\" class=\"col_heading level0 col1\" >Dona</th>\n",
              "      <th id=\"T_4442b_level0_col2\" class=\"col_heading level0 col2\" >Dr</th>\n",
              "      <th id=\"T_4442b_level0_col3\" class=\"col_heading level0 col3\" >Master</th>\n",
              "      <th id=\"T_4442b_level0_col4\" class=\"col_heading level0 col4\" >Miss</th>\n",
              "      <th id=\"T_4442b_level0_col5\" class=\"col_heading level0 col5\" >Mr</th>\n",
              "      <th id=\"T_4442b_level0_col6\" class=\"col_heading level0 col6\" >Mrs</th>\n",
              "      <th id=\"T_4442b_level0_col7\" class=\"col_heading level0 col7\" >Ms</th>\n",
              "      <th id=\"T_4442b_level0_col8\" class=\"col_heading level0 col8\" >Rev</th>\n",
              "    </tr>\n",
              "    <tr>\n",
              "      <th class=\"index_name level0\" >Sex</th>\n",
              "      <th class=\"blank col0\" >&nbsp;</th>\n",
              "      <th class=\"blank col1\" >&nbsp;</th>\n",
              "      <th class=\"blank col2\" >&nbsp;</th>\n",
              "      <th class=\"blank col3\" >&nbsp;</th>\n",
              "      <th class=\"blank col4\" >&nbsp;</th>\n",
              "      <th class=\"blank col5\" >&nbsp;</th>\n",
              "      <th class=\"blank col6\" >&nbsp;</th>\n",
              "      <th class=\"blank col7\" >&nbsp;</th>\n",
              "      <th class=\"blank col8\" >&nbsp;</th>\n",
              "    </tr>\n",
              "  </thead>\n",
              "  <tbody>\n",
              "    <tr>\n",
              "      <th id=\"T_4442b_level0_row0\" class=\"row_heading level0 row0\" >female</th>\n",
              "      <td id=\"T_4442b_row0_col0\" class=\"data row0 col0\" >0</td>\n",
              "      <td id=\"T_4442b_row0_col1\" class=\"data row0 col1\" >1</td>\n",
              "      <td id=\"T_4442b_row0_col2\" class=\"data row0 col2\" >0</td>\n",
              "      <td id=\"T_4442b_row0_col3\" class=\"data row0 col3\" >0</td>\n",
              "      <td id=\"T_4442b_row0_col4\" class=\"data row0 col4\" >78</td>\n",
              "      <td id=\"T_4442b_row0_col5\" class=\"data row0 col5\" >0</td>\n",
              "      <td id=\"T_4442b_row0_col6\" class=\"data row0 col6\" >72</td>\n",
              "      <td id=\"T_4442b_row0_col7\" class=\"data row0 col7\" >1</td>\n",
              "      <td id=\"T_4442b_row0_col8\" class=\"data row0 col8\" >0</td>\n",
              "    </tr>\n",
              "    <tr>\n",
              "      <th id=\"T_4442b_level0_row1\" class=\"row_heading level0 row1\" >male</th>\n",
              "      <td id=\"T_4442b_row1_col0\" class=\"data row1 col0\" >2</td>\n",
              "      <td id=\"T_4442b_row1_col1\" class=\"data row1 col1\" >0</td>\n",
              "      <td id=\"T_4442b_row1_col2\" class=\"data row1 col2\" >1</td>\n",
              "      <td id=\"T_4442b_row1_col3\" class=\"data row1 col3\" >21</td>\n",
              "      <td id=\"T_4442b_row1_col4\" class=\"data row1 col4\" >0</td>\n",
              "      <td id=\"T_4442b_row1_col5\" class=\"data row1 col5\" >240</td>\n",
              "      <td id=\"T_4442b_row1_col6\" class=\"data row1 col6\" >0</td>\n",
              "      <td id=\"T_4442b_row1_col7\" class=\"data row1 col7\" >0</td>\n",
              "      <td id=\"T_4442b_row1_col8\" class=\"data row1 col8\" >2</td>\n",
              "    </tr>\n",
              "  </tbody>\n",
              "</table>\n"
            ],
            "text/plain": [
              "<pandas.io.formats.style.Styler at 0x28d7b92bdd0>"
            ]
          },
          "metadata": {},
          "output_type": "display_data"
        }
      ],
      "source": [
        "# Inital 열 추가\n",
        "train[\"Initial\"] = train[\"Name\"].str.extract(\"([A-Za-z]+)\\.\")\n",
        "test[\"Initial\"] = test[\"Name\"].str.extract(\"([A-Za-z]+)\\.\")\n",
        "\n",
        "# crosstab으로 표현\n",
        "crosstab1 = pd.crosstab(train[\"Initial\"], train[\"Sex\"]).T.style.background_gradient(cmap=\"coolwarm\")\n",
        "crosstab2 = pd.crosstab(test[\"Initial\"], test[\"Sex\"]).T.style.background_gradient(cmap=\"coolwarm\")\n",
        "\n",
        "print(\"<train data>\")\n",
        "display(crosstab1)\n",
        "print()\n",
        "print(\"<test data>\")\n",
        "display(crosstab2)"
      ]
    },
    {
      "cell_type": "markdown",
      "metadata": {
        "id": "6MFSujYBPwrK"
      },
      "source": [
        "b. Age 이상치(outlier)\n",
        "\n",
        "  + 오타 및 불분명한 이니셜 존재\n",
        "  + replace함수를 이용하여 이니셜에 사용되는 값으로 대체한다."
      ]
    },
    {
      "cell_type": "code",
      "execution_count": 8,
      "metadata": {
        "id": "x-KJnENtPwrK"
      },
      "outputs": [
        {
          "name": "stdout",
          "output_type": "stream",
          "text": [
            "<train data>\n",
            "Initial\n",
            "Master     4.574167\n",
            "Miss      21.860000\n",
            "Mr        32.739609\n",
            "Mrs       35.981818\n",
            "Others    45.888889\n",
            "Name: Age, dtype: float64\n",
            "['Mr' 'Mrs' 'Miss' 'Master' 'Others']\n",
            "\n",
            "<test data>\n",
            "Initial\n",
            "Master     7.406471\n",
            "Miss      21.774844\n",
            "Mr        32.151351\n",
            "Mrs       38.903226\n",
            "Others    42.750000\n",
            "Name: Age, dtype: float64\n",
            "['Mr' 'Mrs' 'Miss' 'Master' 'Others']\n"
          ]
        }
      ],
      "source": [
        "# 변경 사항 지정 (written by chat-gpt)\n",
        "train['Initial'].replace(['Mlle','Mme','Ms','Dr','Major','Lady','Countess','Jonkheer','Col','Rev','Capt','Sir','Don'],['Miss','Miss','Miss','Mr','Mr','Mrs','Mrs','Others','Others','Others','Mr','Mr','Mr'],inplace=True)\n",
        "test['Initial'].replace(['Mlle','Mme','Ms','Dr','Major','Lady','Countess','Jonkheer','Col','Rev','Capt','Sir','Don','Dona'],['Miss','Miss','Miss','Mr','Mr','Mrs','Mrs','Others','Others','Others','Mr','Mr','Mr','Mr'],inplace=True)\n",
        "\n",
        "# 지정된 변경 값으로 대체\n",
        "group1 = train.groupby('Initial')['Age'].mean()\n",
        "group2 = test.groupby('Initial')['Age'].mean()\n",
        "\n",
        "print(\"<train data>\")\n",
        "print(group1)\n",
        "print(train[\"Initial\"].unique())\n",
        "print()\n",
        "print(\"<test data>\")\n",
        "print(group2)\n",
        "print(test[\"Initial\"].unique())"
      ]
    },
    {
      "cell_type": "markdown",
      "metadata": {
        "id": "6qBw0xbZPwrK"
      },
      "source": [
        "c. Age 처리 결과\n",
        "\n",
        "  + 이니셜 별 평균 나이를 구한다.\n",
        "  + 평균 나이를 반올림하여 결측치를 대체한다."
      ]
    },
    {
      "cell_type": "code",
      "execution_count": 9,
      "metadata": {
        "id": "BCEUxiB4PwrK"
      },
      "outputs": [
        {
          "name": "stdout",
          "output_type": "stream",
          "text": [
            "<train data>\n",
            "<class 'pandas.core.frame.DataFrame'>\n",
            "RangeIndex: 891 entries, 0 to 890\n",
            "Data columns (total 13 columns):\n",
            " #   Column       Non-Null Count  Dtype  \n",
            "---  ------       --------------  -----  \n",
            " 0   PassengerId  891 non-null    int64  \n",
            " 1   Survived     891 non-null    int64  \n",
            " 2   Pclass       891 non-null    int64  \n",
            " 3   Name         891 non-null    object \n",
            " 4   Sex          891 non-null    object \n",
            " 5   Age          891 non-null    float64\n",
            " 6   SibSp        891 non-null    int64  \n",
            " 7   Parch        891 non-null    int64  \n",
            " 8   Ticket       891 non-null    object \n",
            " 9   Fare         891 non-null    float64\n",
            " 10  Cabin        204 non-null    object \n",
            " 11  Embarked     889 non-null    object \n",
            " 12  Initial      891 non-null    object \n",
            "dtypes: float64(2), int64(5), object(6)\n",
            "memory usage: 90.6+ KB\n",
            "\n",
            "<test data>\n",
            "<class 'pandas.core.frame.DataFrame'>\n",
            "RangeIndex: 418 entries, 0 to 417\n",
            "Data columns (total 12 columns):\n",
            " #   Column       Non-Null Count  Dtype  \n",
            "---  ------       --------------  -----  \n",
            " 0   PassengerId  418 non-null    int64  \n",
            " 1   Pclass       418 non-null    int64  \n",
            " 2   Name         418 non-null    object \n",
            " 3   Sex          418 non-null    object \n",
            " 4   Age          332 non-null    float64\n",
            " 5   SibSp        418 non-null    int64  \n",
            " 6   Parch        418 non-null    int64  \n",
            " 7   Ticket       418 non-null    object \n",
            " 8   Fare         417 non-null    float64\n",
            " 9   Cabin        91 non-null     object \n",
            " 10  Embarked     418 non-null    object \n",
            " 11  Initial      418 non-null    object \n",
            "dtypes: float64(2), int64(4), object(6)\n",
            "memory usage: 39.3+ KB\n"
          ]
        }
      ],
      "source": [
        "train.loc[(train.Age.isnull()) & (train.Initial==\"Master\"), \"Age\"] = 5\n",
        "train.loc[(train.Age.isnull()) & (train.Initial==\"Miss\"), \"Age\"] = 22\n",
        "train.loc[(train.Age.isnull()) & (train.Initial==\"Mr\"), \"Age\"] = 33\n",
        "train.loc[(train.Age.isnull()) & (train.Initial==\"Mrs\"), \"Age\"] = 36\n",
        "train.loc[(train.Age.isnull()) & (train.Initial==\"Others\"), \"Age\"] = 46\n",
        "\n",
        "# Age의 결측치가 모두 처리된 것을 확인\n",
        "print(\"<train data>\")\n",
        "train.info()\n",
        "print()\n",
        "\n",
        "test.loc[(train.Age.isnull()) & (train.Initial==\"Master\"), \"Age\"] = 7\n",
        "test.loc[(train.Age.isnull()) & (train.Initial==\"Miss\"), \"Age\"] = 22\n",
        "test.loc[(train.Age.isnull()) & (train.Initial==\"Mr\"), \"Age\"] = 32\n",
        "test.loc[(train.Age.isnull()) & (train.Initial==\"Mrs\"), \"Age\"] = 39\n",
        "test.loc[(train.Age.isnull()) & (train.Initial==\"Others\"), \"Age\"] = 43\n",
        "\n",
        "# Age의 결측치가 모두 처리된 것을 확인\n",
        "print(\"<test data>\")\n",
        "test.info()"
      ]
    },
    {
      "cell_type": "markdown",
      "metadata": {
        "id": "XSXsKqc4PwrL"
      },
      "source": [
        "d. Embarked 결측치(missing value)\n",
        "\n",
        "  + 2개의 Embarked 결측치를 처리한다.\n",
        "  + dropna 함수를 이용하여 제거한다."
      ]
    },
    {
      "cell_type": "code",
      "execution_count": 10,
      "metadata": {
        "id": "mVQ2JkjoPwrL"
      },
      "outputs": [
        {
          "name": "stdout",
          "output_type": "stream",
          "text": [
            "<train data>\n",
            "<class 'pandas.core.frame.DataFrame'>\n",
            "Index: 889 entries, 0 to 890\n",
            "Data columns (total 13 columns):\n",
            " #   Column       Non-Null Count  Dtype  \n",
            "---  ------       --------------  -----  \n",
            " 0   PassengerId  889 non-null    int64  \n",
            " 1   Survived     889 non-null    int64  \n",
            " 2   Pclass       889 non-null    int64  \n",
            " 3   Name         889 non-null    object \n",
            " 4   Sex          889 non-null    object \n",
            " 5   Age          889 non-null    float64\n",
            " 6   SibSp        889 non-null    int64  \n",
            " 7   Parch        889 non-null    int64  \n",
            " 8   Ticket       889 non-null    object \n",
            " 9   Fare         889 non-null    float64\n",
            " 10  Cabin        202 non-null    object \n",
            " 11  Embarked     889 non-null    object \n",
            " 12  Initial      889 non-null    object \n",
            "dtypes: float64(2), int64(5), object(6)\n",
            "memory usage: 97.2+ KB\n",
            "\n",
            "<test data>\n",
            "<class 'pandas.core.frame.DataFrame'>\n",
            "RangeIndex: 418 entries, 0 to 417\n",
            "Data columns (total 12 columns):\n",
            " #   Column       Non-Null Count  Dtype  \n",
            "---  ------       --------------  -----  \n",
            " 0   PassengerId  418 non-null    int64  \n",
            " 1   Pclass       418 non-null    int64  \n",
            " 2   Name         418 non-null    object \n",
            " 3   Sex          418 non-null    object \n",
            " 4   Age          332 non-null    float64\n",
            " 5   SibSp        418 non-null    int64  \n",
            " 6   Parch        418 non-null    int64  \n",
            " 7   Ticket       418 non-null    object \n",
            " 8   Fare         417 non-null    float64\n",
            " 9   Cabin        91 non-null     object \n",
            " 10  Embarked     418 non-null    object \n",
            " 11  Initial      418 non-null    object \n",
            "dtypes: float64(2), int64(4), object(6)\n",
            "memory usage: 39.3+ KB\n"
          ]
        }
      ],
      "source": [
        "train.dropna(subset=['Embarked'], inplace=True)\n",
        "test.dropna(subset=['Embarked'], inplace=True)\n",
        "\n",
        "# Embarked 결측치가 모두 처리된 것을 확인\n",
        "print(\"<train data>\")\n",
        "train.info()\n",
        "print()\n",
        "print(\"<test data>\")\n",
        "test.info()"
      ]
    },
    {
      "cell_type": "markdown",
      "metadata": {
        "id": "f-NTSRRxPwrL"
      },
      "source": [
        "# 4. 특징 공학(Feature Engineering)\n",
        "\n",
        "  + 데이터를 어떤 특징(feature)을 사용할 것인지 결정하는 작업\n",
        "  + Scaling, Binning, One-Hot-Encoding, Transform, Dummy 등 다양한 방법이 있다."
      ]
    },
    {
      "cell_type": "markdown",
      "metadata": {
        "id": "rp_hPUCwPwrL"
      },
      "source": [
        "a. Age Binning\n",
        "\n",
        "  + 연속형 변수인 Age에 범위를 지정하여 범주형 변수로 변환한다.\n",
        "  + ~15세, 16~30세, 31~50세, 51세~65세, 66세~ 총 5가지 범주로 구분한다.\n",
        "  + 나이가 어릴수록 생존률이 높게 나타난 것을 확인할 수 있다."
      ]
    },
    {
      "cell_type": "code",
      "execution_count": 11,
      "metadata": {
        "id": "WXJetIlDPwrL"
      },
      "outputs": [
        {
          "name": "stderr",
          "output_type": "stream",
          "text": [
            "C:\\Users\\user\\AppData\\Local\\Packages\\PythonSoftwareFoundation.Python.3.11_qbz5n2kfra8p0\\LocalCache\\local-packages\\Python311\\site-packages\\seaborn\\axisgrid.py:118: UserWarning: The figure layout has changed to tight\n",
            "  self._figure.tight_layout(*args, **kwargs)\n"
          ]
        },
        {
          "data": {
            "image/png": "[encoded data removed]",
            "text/plain": [
              "<Figure size 1800x300 with 3 Axes>"
            ]
          },
          "metadata": {},
          "output_type": "display_data"
        }
      ],
      "source": [
        "train[\"Age_bin\"] = 0\n",
        "train.loc[train[\"Age\"]<=15, \"Age_bin\"] = 0\n",
        "train.loc[(train[\"Age\"]>15) & (train[\"Age\"]<=30), \"Age_bin\"] = 1\n",
        "train.loc[(train[\"Age\"]>30) & (train[\"Age\"]<=50), \"Age_bin\"] = 2\n",
        "train.loc[(train[\"Age\"]>50) & (train[\"Age\"]<=65), \"Age_bin\"] = 3\n",
        "train.loc[train[\"Age\"]>65, \"Age_bin\"] = 4\n",
        "\n",
        "test[\"Age_bin\"] = 0\n",
        "test.loc[test[\"Age\"]<=15, \"Age_bin\"] = 0\n",
        "test.loc[(test[\"Age\"]>15) & (test[\"Age\"]<=30), \"Age_bin\"] = 1\n",
        "test.loc[(test[\"Age\"]>30) & (test[\"Age\"]<=50), \"Age_bin\"] = 2\n",
        "test.loc[(test[\"Age\"]>50) & (test[\"Age\"]<=65), \"Age_bin\"] = 3\n",
        "test.loc[test[\"Age\"]>65, \"Age_bin\"] = 4\n",
        "\n",
        "# PClass & Age_bin 그래프 시각화\n",
        "graph = sns.catplot(x=\"Age_bin\", y=\"Survived\", data=train, kind=\"bar\", height=3, aspect=2, col=\"Pclass\", col_order=[1, 2, 3])\n",
        "\n",
        "plt.show()"
      ]
    },
    {
      "cell_type": "markdown",
      "metadata": {
        "id": "Zaq5WcX7PwrL"
      },
      "source": [
        "b. Fare Binning\n",
        "\n",
        "  + Age와 마찬가지로 Fare에 범위를 지정하여 범주형 변수로 변환한다.\n",
        "  + qcut 함수를 이용하여 Fare를 분위수(quantile)에 따라 나누었다."
      ]
    },
    {
      "cell_type": "code",
      "execution_count": 12,
      "metadata": {
        "id": "YMXqzGYOPwrM"
      },
      "outputs": [
        {
          "data": {
            "text/html": [
              "<style type=\"text/css\">\n",
              "#T_c4c34_row0_col0 {\n",
              "  background-color: #3b4cc0;\n",
              "  color: #f1f1f1;\n",
              "}\n",
              "#T_c4c34_row1_col0 {\n",
              "  background-color: #97b8ff;\n",
              "  color: #000000;\n",
              "}\n",
              "#T_c4c34_row2_col0 {\n",
              "  background-color: #f7b497;\n",
              "  color: #000000;\n",
              "}\n",
              "#T_c4c34_row3_col0 {\n",
              "  background-color: #b40426;\n",
              "  color: #f1f1f1;\n",
              "}\n",
              "</style>\n",
              "<table id=\"T_c4c34\">\n",
              "  <thead>\n",
              "    <tr>\n",
              "      <th class=\"blank level0\" >&nbsp;</th>\n",
              "      <th id=\"T_c4c34_level0_col0\" class=\"col_heading level0 col0\" >Survived</th>\n",
              "    </tr>\n",
              "    <tr>\n",
              "      <th class=\"index_name level0\" >Fare_range</th>\n",
              "      <th class=\"blank col0\" >&nbsp;</th>\n",
              "    </tr>\n",
              "  </thead>\n",
              "  <tbody>\n",
              "    <tr>\n",
              "      <th id=\"T_c4c34_level0_row0\" class=\"row_heading level0 row0\" >(-0.001, 7.896]</th>\n",
              "      <td id=\"T_c4c34_row0_col0\" class=\"data row0 col0\" >0.197309</td>\n",
              "    </tr>\n",
              "    <tr>\n",
              "      <th id=\"T_c4c34_level0_row1\" class=\"row_heading level0 row1\" >(7.896, 14.454]</th>\n",
              "      <td id=\"T_c4c34_row1_col0\" class=\"data row1 col0\" >0.303571</td>\n",
              "    </tr>\n",
              "    <tr>\n",
              "      <th id=\"T_c4c34_level0_row2\" class=\"row_heading level0 row2\" >(14.454, 31.0]</th>\n",
              "      <td id=\"T_c4c34_row2_col0\" class=\"data row2 col0\" >0.454955</td>\n",
              "    </tr>\n",
              "    <tr>\n",
              "      <th id=\"T_c4c34_level0_row3\" class=\"row_heading level0 row3\" >(31.0, 512.329]</th>\n",
              "      <td id=\"T_c4c34_row3_col0\" class=\"data row3 col0\" >0.577273</td>\n",
              "    </tr>\n",
              "  </tbody>\n",
              "</table>\n"
            ],
            "text/plain": [
              "<pandas.io.formats.style.Styler at 0x28d770c2210>"
            ]
          },
          "execution_count": 12,
          "metadata": {},
          "output_type": "execute_result"
        }
      ],
      "source": [
        "train[\"Fare_range\"] = pd.qcut(train[\"Fare\"],4)\n",
        "train.groupby([\"Fare_range\"])[\"Survived\"].mean().to_frame().style.background_gradient(cmap=\"coolwarm\")"
      ]
    },
    {
      "cell_type": "code",
      "execution_count": 13,
      "metadata": {
        "id": "m1K0_RRmPwrM"
      },
      "outputs": [
        {
          "data": {
            "text/html": [
              "<div>\n",
              "<style scoped>\n",
              "    .dataframe tbody tr th:only-of-type {\n",
              "        vertical-align: middle;\n",
              "    }\n",
              "\n",
              "    .dataframe tbody tr th {\n",
              "        vertical-align: top;\n",
              "    }\n",
              "\n",
              "    .dataframe thead th {\n",
              "        text-align: right;\n",
              "    }\n",
              "</style>\n",
              "<table border=\"1\" class=\"dataframe\">\n",
              "  <thead>\n",
              "    <tr style=\"text-align: right;\">\n",
              "      <th></th>\n",
              "      <th>PassengerId</th>\n",
              "      <th>Survived</th>\n",
              "      <th>Pclass</th>\n",
              "      <th>Name</th>\n",
              "      <th>Sex</th>\n",
              "      <th>Age</th>\n",
              "      <th>SibSp</th>\n",
              "      <th>Parch</th>\n",
              "      <th>Ticket</th>\n",
              "      <th>Fare</th>\n",
              "      <th>Cabin</th>\n",
              "      <th>Embarked</th>\n",
              "      <th>Initial</th>\n",
              "      <th>Age_bin</th>\n",
              "      <th>Fare_range</th>\n",
              "      <th>Fare_bin</th>\n",
              "    </tr>\n",
              "  </thead>\n",
              "  <tbody>\n",
              "    <tr>\n",
              "      <th>0</th>\n",
              "      <td>1</td>\n",
              "      <td>0</td>\n",
              "      <td>3</td>\n",
              "      <td>Braund, Mr. Owen Harris</td>\n",
              "      <td>male</td>\n",
              "      <td>22.0</td>\n",
              "      <td>1</td>\n",
              "      <td>0</td>\n",
              "      <td>A/5 21171</td>\n",
              "      <td>7.2500</td>\n",
              "      <td>NaN</td>\n",
              "      <td>S</td>\n",
              "      <td>Mr</td>\n",
              "      <td>1</td>\n",
              "      <td>(-0.001, 7.896]</td>\n",
              "      <td>0</td>\n",
              "    </tr>\n",
              "    <tr>\n",
              "      <th>1</th>\n",
              "      <td>2</td>\n",
              "      <td>1</td>\n",
              "      <td>1</td>\n",
              "      <td>Cumings, Mrs. John Bradley (Florence Briggs Th...</td>\n",
              "      <td>female</td>\n",
              "      <td>38.0</td>\n",
              "      <td>1</td>\n",
              "      <td>0</td>\n",
              "      <td>PC 17599</td>\n",
              "      <td>71.2833</td>\n",
              "      <td>C85</td>\n",
              "      <td>C</td>\n",
              "      <td>Mrs</td>\n",
              "      <td>2</td>\n",
              "      <td>(31.0, 512.329]</td>\n",
              "      <td>3</td>\n",
              "    </tr>\n",
              "    <tr>\n",
              "      <th>2</th>\n",
              "      <td>3</td>\n",
              "      <td>1</td>\n",
              "      <td>3</td>\n",
              "      <td>Heikkinen, Miss. Laina</td>\n",
              "      <td>female</td>\n",
              "      <td>26.0</td>\n",
              "      <td>0</td>\n",
              "      <td>0</td>\n",
              "      <td>STON/O2. 3101282</td>\n",
              "      <td>7.9250</td>\n",
              "      <td>NaN</td>\n",
              "      <td>S</td>\n",
              "      <td>Miss</td>\n",
              "      <td>1</td>\n",
              "      <td>(7.896, 14.454]</td>\n",
              "      <td>1</td>\n",
              "    </tr>\n",
              "    <tr>\n",
              "      <th>3</th>\n",
              "      <td>4</td>\n",
              "      <td>1</td>\n",
              "      <td>1</td>\n",
              "      <td>Futrelle, Mrs. Jacques Heath (Lily May Peel)</td>\n",
              "      <td>female</td>\n",
              "      <td>35.0</td>\n",
              "      <td>1</td>\n",
              "      <td>0</td>\n",
              "      <td>113803</td>\n",
              "      <td>53.1000</td>\n",
              "      <td>C123</td>\n",
              "      <td>S</td>\n",
              "      <td>Mrs</td>\n",
              "      <td>2</td>\n",
              "      <td>(31.0, 512.329]</td>\n",
              "      <td>3</td>\n",
              "    </tr>\n",
              "    <tr>\n",
              "      <th>4</th>\n",
              "      <td>5</td>\n",
              "      <td>0</td>\n",
              "      <td>3</td>\n",
              "      <td>Allen, Mr. William Henry</td>\n",
              "      <td>male</td>\n",
              "      <td>35.0</td>\n",
              "      <td>0</td>\n",
              "      <td>0</td>\n",
              "      <td>373450</td>\n",
              "      <td>8.0500</td>\n",
              "      <td>NaN</td>\n",
              "      <td>S</td>\n",
              "      <td>Mr</td>\n",
              "      <td>2</td>\n",
              "      <td>(7.896, 14.454]</td>\n",
              "      <td>1</td>\n",
              "    </tr>\n",
              "  </tbody>\n",
              "</table>\n",
              "</div>"
            ],
            "text/plain": [
              "   PassengerId  Survived  Pclass  \\\n",
              "0            1         0       3   \n",
              "1            2         1       1   \n",
              "2            3         1       3   \n",
              "3            4         1       1   \n",
              "4            5         0       3   \n",
              "\n",
              "                                                Name     Sex   Age  SibSp  \\\n",
              "0                            Braund, Mr. Owen Harris    male  22.0      1   \n",
              "1  Cumings, Mrs. John Bradley (Florence Briggs Th...  female  38.0      1   \n",
              "2                             Heikkinen, Miss. Laina  female  26.0      0   \n",
              "3       Futrelle, Mrs. Jacques Heath (Lily May Peel)  female  35.0      1   \n",
              "4                           Allen, Mr. William Henry    male  35.0      0   \n",
              "\n",
              "   Parch            Ticket     Fare Cabin Embarked Initial  Age_bin  \\\n",
              "0      0         A/5 21171   7.2500   NaN        S      Mr        1   \n",
              "1      0          PC 17599  71.2833   C85        C     Mrs        2   \n",
              "2      0  STON/O2. 3101282   7.9250   NaN        S    Miss        1   \n",
              "3      0            113803  53.1000  C123        S     Mrs        2   \n",
              "4      0            373450   8.0500   NaN        S      Mr        2   \n",
              "\n",
              "        Fare_range  Fare_bin  \n",
              "0  (-0.001, 7.896]         0  \n",
              "1  (31.0, 512.329]         3  \n",
              "2  (7.896, 14.454]         1  \n",
              "3  (31.0, 512.329]         3  \n",
              "4  (7.896, 14.454]         1  "
            ]
          },
          "execution_count": 13,
          "metadata": {},
          "output_type": "execute_result"
        }
      ],
      "source": [
        "train[\"Fare_bin\"] = 0\n",
        "train.loc[train[\"Fare\"]<=7.896, \"Fare_bin\"] = 0\n",
        "train.loc[(train[\"Fare\"]>7.896) & (train[\"Fare\"]<=14.454), \"Fare_bin\"] = 1\n",
        "train.loc[(train[\"Fare\"]>14.454) & (train[\"Fare\"]<=31.0), \"Fare_bin\"] = 2\n",
        "train.loc[(train[\"Fare\"]>31.0) & (train[\"Fare\"]<=512.329), \"Fare_bin\"] = 3\n",
        "\n",
        "# Age_bin이 제대로 생성되었는지 확인\n",
        "train.head()"
      ]
    },
    {
      "cell_type": "markdown",
      "metadata": {
        "id": "OqwyygWRPwrM"
      },
      "source": [
        "c. Passanger Engineering\n",
        "\n",
        "  + Parch와 Sibsp를 더한 값으로 같이 탑승한 전체 가족 수에 대한 column을 생성한다.\n",
        "  + 혼자 탑승한 승객의 경우 One으로 표시한다.\n",
        "  + 동승객 여부에 관해 생존율을 비교한다.\n",
        "  + 함께 탑승한 가족이 3명인 경우 가장 높은 생존율을 보이는 것을 확인할 수 있다."
      ]
    },
    {
      "cell_type": "code",
      "execution_count": 14,
      "metadata": {
        "id": "RSlw7f-6PwrM"
      },
      "outputs": [
        {
          "data": {
            "image/png": "[encoded data removed]",
            "text/plain": [
              "<Figure size 1000x600 with 2 Axes>"
            ]
          },
          "metadata": {},
          "output_type": "display_data"
        }
      ],
      "source": [
        "train[\"Family\"] = train[\"Parch\"] + train[\"SibSp\"]\n",
        "train[\"One\"] = 0\n",
        "train.loc[train.Family == 0, \"One\"] = 1\n",
        "\n",
        "test[\"Family\"] = test[\"Parch\"] + test[\"SibSp\"]\n",
        "test[\"One\"] = 0\n",
        "test.loc[test.Family == 0, \"One\"] = 1\n",
        "\n",
        "fig, ax = plt.subplots(1, 2, figsize=(10, 6))\n",
        "\n",
        "# catplot이 안되서 barplot 함수를 이용하여 그래프 시각화\n",
        "sns.barplot(x=\"Family\", y=\"Survived\", data=train, ax=ax[0])\n",
        "ax[0].set_title(\"Family & Survived\")\n",
        "\n",
        "sns.barplot(x=\"One\", y=\"Survived\", data=train, ax=ax[1])\n",
        "ax[1].set_title(\"One & Survived\")\n",
        "\n",
        "plt.show()"
      ]
    },
    {
      "cell_type": "markdown",
      "metadata": {
        "id": "eus-29VMPwrM"
      },
      "source": [
        "d. mapping\n",
        "\n",
        "  + 범주형 변수를 mapping하여 0,1,2,3,...으로 변환한다.\n",
        "  + 성별(Sex), 탑승위치(Embarked), 이니셜(Initial)"
      ]
    },
    {
      "cell_type": "code",
      "execution_count": 15,
      "metadata": {
        "id": "bdAD2tmhPwrM"
      },
      "outputs": [
        {
          "name": "stdout",
          "output_type": "stream",
          "text": [
            "Index(['PassengerId', 'Survived', 'Pclass', 'Name', 'Sex', 'Age', 'SibSp',\n",
            "       'Parch', 'Ticket', 'Fare', 'Cabin', 'Embarked', 'Initial', 'Age_bin',\n",
            "       'Fare_range', 'Fare_bin', 'Family', 'One'],\n",
            "      dtype='object')\n"
          ]
        }
      ],
      "source": [
        "print(train.columns)"
      ]
    },
    {
      "cell_type": "code",
      "execution_count": 16,
      "metadata": {
        "id": "6XtRGWZIPwrN"
      },
      "outputs": [
        {
          "data": {
            "text/html": [
              "<div>\n",
              "<style scoped>\n",
              "    .dataframe tbody tr th:only-of-type {\n",
              "        vertical-align: middle;\n",
              "    }\n",
              "\n",
              "    .dataframe tbody tr th {\n",
              "        vertical-align: top;\n",
              "    }\n",
              "\n",
              "    .dataframe thead th {\n",
              "        text-align: right;\n",
              "    }\n",
              "</style>\n",
              "<table border=\"1\" class=\"dataframe\">\n",
              "  <thead>\n",
              "    <tr style=\"text-align: right;\">\n",
              "      <th></th>\n",
              "      <th>PassengerId</th>\n",
              "      <th>Survived</th>\n",
              "      <th>Pclass</th>\n",
              "      <th>Name</th>\n",
              "      <th>Sex</th>\n",
              "      <th>Age</th>\n",
              "      <th>SibSp</th>\n",
              "      <th>Parch</th>\n",
              "      <th>Ticket</th>\n",
              "      <th>Fare</th>\n",
              "      <th>Cabin</th>\n",
              "      <th>Embarked</th>\n",
              "      <th>Initial</th>\n",
              "      <th>Age_bin</th>\n",
              "      <th>Fare_range</th>\n",
              "      <th>Fare_bin</th>\n",
              "      <th>Family</th>\n",
              "      <th>One</th>\n",
              "    </tr>\n",
              "  </thead>\n",
              "  <tbody>\n",
              "    <tr>\n",
              "      <th>0</th>\n",
              "      <td>1</td>\n",
              "      <td>0</td>\n",
              "      <td>3</td>\n",
              "      <td>Braund, Mr. Owen Harris</td>\n",
              "      <td>0</td>\n",
              "      <td>22.0</td>\n",
              "      <td>1</td>\n",
              "      <td>0</td>\n",
              "      <td>A/5 21171</td>\n",
              "      <td>7.2500</td>\n",
              "      <td>NaN</td>\n",
              "      <td>0</td>\n",
              "      <td>0</td>\n",
              "      <td>1</td>\n",
              "      <td>(-0.001, 7.896]</td>\n",
              "      <td>0</td>\n",
              "      <td>1</td>\n",
              "      <td>0</td>\n",
              "    </tr>\n",
              "    <tr>\n",
              "      <th>1</th>\n",
              "      <td>2</td>\n",
              "      <td>1</td>\n",
              "      <td>1</td>\n",
              "      <td>Cumings, Mrs. John Bradley (Florence Briggs Th...</td>\n",
              "      <td>1</td>\n",
              "      <td>38.0</td>\n",
              "      <td>1</td>\n",
              "      <td>0</td>\n",
              "      <td>PC 17599</td>\n",
              "      <td>71.2833</td>\n",
              "      <td>C85</td>\n",
              "      <td>1</td>\n",
              "      <td>1</td>\n",
              "      <td>2</td>\n",
              "      <td>(31.0, 512.329]</td>\n",
              "      <td>3</td>\n",
              "      <td>1</td>\n",
              "      <td>0</td>\n",
              "    </tr>\n",
              "    <tr>\n",
              "      <th>2</th>\n",
              "      <td>3</td>\n",
              "      <td>1</td>\n",
              "      <td>3</td>\n",
              "      <td>Heikkinen, Miss. Laina</td>\n",
              "      <td>1</td>\n",
              "      <td>26.0</td>\n",
              "      <td>0</td>\n",
              "      <td>0</td>\n",
              "      <td>STON/O2. 3101282</td>\n",
              "      <td>7.9250</td>\n",
              "      <td>NaN</td>\n",
              "      <td>0</td>\n",
              "      <td>2</td>\n",
              "      <td>1</td>\n",
              "      <td>(7.896, 14.454]</td>\n",
              "      <td>1</td>\n",
              "      <td>0</td>\n",
              "      <td>1</td>\n",
              "    </tr>\n",
              "    <tr>\n",
              "      <th>3</th>\n",
              "      <td>4</td>\n",
              "      <td>1</td>\n",
              "      <td>1</td>\n",
              "      <td>Futrelle, Mrs. Jacques Heath (Lily May Peel)</td>\n",
              "      <td>1</td>\n",
              "      <td>35.0</td>\n",
              "      <td>1</td>\n",
              "      <td>0</td>\n",
              "      <td>113803</td>\n",
              "      <td>53.1000</td>\n",
              "      <td>C123</td>\n",
              "      <td>0</td>\n",
              "      <td>1</td>\n",
              "      <td>2</td>\n",
              "      <td>(31.0, 512.329]</td>\n",
              "      <td>3</td>\n",
              "      <td>1</td>\n",
              "      <td>0</td>\n",
              "    </tr>\n",
              "    <tr>\n",
              "      <th>4</th>\n",
              "      <td>5</td>\n",
              "      <td>0</td>\n",
              "      <td>3</td>\n",
              "      <td>Allen, Mr. William Henry</td>\n",
              "      <td>0</td>\n",
              "      <td>35.0</td>\n",
              "      <td>0</td>\n",
              "      <td>0</td>\n",
              "      <td>373450</td>\n",
              "      <td>8.0500</td>\n",
              "      <td>NaN</td>\n",
              "      <td>0</td>\n",
              "      <td>0</td>\n",
              "      <td>2</td>\n",
              "      <td>(7.896, 14.454]</td>\n",
              "      <td>1</td>\n",
              "      <td>0</td>\n",
              "      <td>1</td>\n",
              "    </tr>\n",
              "  </tbody>\n",
              "</table>\n",
              "</div>"
            ],
            "text/plain": [
              "   PassengerId  Survived  Pclass  \\\n",
              "0            1         0       3   \n",
              "1            2         1       1   \n",
              "2            3         1       3   \n",
              "3            4         1       1   \n",
              "4            5         0       3   \n",
              "\n",
              "                                                Name  Sex   Age  SibSp  Parch  \\\n",
              "0                            Braund, Mr. Owen Harris    0  22.0      1      0   \n",
              "1  Cumings, Mrs. John Bradley (Florence Briggs Th...    1  38.0      1      0   \n",
              "2                             Heikkinen, Miss. Laina    1  26.0      0      0   \n",
              "3       Futrelle, Mrs. Jacques Heath (Lily May Peel)    1  35.0      1      0   \n",
              "4                           Allen, Mr. William Henry    0  35.0      0      0   \n",
              "\n",
              "             Ticket     Fare Cabin  Embarked  Initial  Age_bin  \\\n",
              "0         A/5 21171   7.2500   NaN         0        0        1   \n",
              "1          PC 17599  71.2833   C85         1        1        2   \n",
              "2  STON/O2. 3101282   7.9250   NaN         0        2        1   \n",
              "3            113803  53.1000  C123         0        1        2   \n",
              "4            373450   8.0500   NaN         0        0        2   \n",
              "\n",
              "        Fare_range  Fare_bin  Family  One  \n",
              "0  (-0.001, 7.896]         0       1    0  \n",
              "1  (31.0, 512.329]         3       1    0  \n",
              "2  (7.896, 14.454]         1       0    1  \n",
              "3  (31.0, 512.329]         3       1    0  \n",
              "4  (7.896, 14.454]         1       0    1  "
            ]
          },
          "execution_count": 16,
          "metadata": {},
          "output_type": "execute_result"
        }
      ],
      "source": [
        "# Sex 카테고리 수치화 (male: 0, female: 1)\n",
        "train[\"Sex\"].replace([\"male\",\"female\"],[0,1], inplace=True)\n",
        "\n",
        "# Embarked 카테고리 수치화 (S: 0, C: 1, Q: 2)\n",
        "train[\"Embarked\"].replace([\"S\",\"C\",\"Q\"],[0,1,2], inplace=True)\n",
        "\n",
        "# Initial 카테고리 수치화\n",
        "train[\"Initial\"].replace([\"Mr\",\"Mrs\",\"Miss\",\"Master\",\"Others\"],[0,1,2,3,4], inplace=True)\n",
        "\n",
        "\n",
        "test[\"Sex\"].replace([\"male\",\"female\"],[0,1], inplace=True)\n",
        "test[\"Embarked\"].replace([\"S\",\"C\",\"Q\"],[0,1,2], inplace=True)\n",
        "test[\"Initial\"].replace([\"Mr\",\"Mrs\",\"Miss\",\"Master\",\"Others\"],[0,1,2,3,4], inplace=True)\n",
        "\n",
        "\n",
        "train.head()"
      ]
    },
    {
      "cell_type": "markdown",
      "metadata": {
        "id": "okdZ7Z9DPwrN"
      },
      "source": [
        "e. remove unimportant data\n",
        "\n",
        "  + 불필요한 데이터셋을 제거하여 데이터분석을 효율적으로 진행한다.\n",
        "  + Name, Age, Ticket, Fare, Cabin, Fare_range, PassengerId\n",
        "  + 히트맵을 통하여 전처리한 변수 간 상관관계를 분석한다."
      ]
    },
    {
      "cell_type": "code",
      "execution_count": 17,
      "metadata": {
        "id": "NHJ2zyBCPwrN"
      },
      "outputs": [],
      "source": [
        "# 불필요한 데이터셋 제거\n",
        "\n",
        "train.drop([\"Name\",\"Age\",\"Ticket\",\"Fare\", \"Fare_bin\", \"Cabin\", \"Fare_range\",\"PassengerId\"], axis=1, inplace=True)\n",
        "test.drop([\"Name\",\"Age\",\"Ticket\",\"Fare\",\"Cabin\"], axis=1, inplace=True)"
      ]
    },
    {
      "cell_type": "code",
      "execution_count": 18,
      "metadata": {
        "id": "_zvJPwjjPwrN"
      },
      "outputs": [
        {
          "data": {
            "image/png": "[encoded data removed]",
            "text/plain": [
              "<Figure size 1000x600 with 2 Axes>"
            ]
          },
          "metadata": {},
          "output_type": "display_data"
        }
      ],
      "source": [
        "# tistory blog 참조하여 히트맵 제작\n",
        "sns.heatmap(train.corr(), annot=True, cmap=\"coolwarm\", linewidths=0.1, annot_kws={\"size\":10})\n",
        "fig = plt.gcf()\n",
        "fig.set_size_inches(10,6)\n",
        "plt.xticks()\n",
        "plt.yticks()\n",
        "plt.show()"
      ]
    },
    {
      "cell_type": "markdown",
      "metadata": {
        "id": "7H5ZPt27PwrR"
      },
      "source": [
        "# 5. 데이터 모델링(Data Modeling)\n",
        "\n",
        "  + Scikit-Learn을 이용하여 모델링을 진행한다.\n",
        "  + 총 6가지 모델을 제작하여 각각의 결과를 비교해보았다.\n",
        "  + Logistic Regression, Decision Tree, Support Vector Machine(SVM), Random Forest, K-Nearest Neighbors(KNN), Naive Bayes(베이즈 정리)"
      ]
    },
    {
      "cell_type": "code",
      "execution_count": 19,
      "metadata": {
        "id": "eRgyP4K8PwrR"
      },
      "outputs": [],
      "source": [
        "# Machine Learning\n",
        "from sklearn.linear_model import LogisticRegression  # 로지스틱 회귀분석\n",
        "from sklearn.tree import DecisionTreeClassifier  # 의사결정 트리\n",
        "from sklearn.svm import SVC  # 서포트 벡터 머신\n",
        "from sklearn.ensemble import RandomForestClassifier  # 랜덤 포레스트\n",
        "from sklearn.neighbors import KNeighborsClassifier  # K-최근접 이웃\n",
        "from sklearn.naive_bayes import GaussianNB  # 베이즈\n",
        "\n",
        "# 교차검증\n",
        "from sklearn.model_selection import KFold  # K-폴드 교차검정\n",
        "kfold = KFold(n_splits=10)\n",
        "\n",
        "# 정확도 측정\n",
        "from sklearn.model_selection import cross_val_score"
      ]
    },
    {
      "cell_type": "markdown",
      "metadata": {
        "id": "0qqNyUoxPwrR"
      },
      "source": [
        "a. 결과 설정\n",
        "\n",
        "  + 생존 결과는 따로 표시한다.\n",
        "  + 정확도 평가는 Accuracy를 사용한다."
      ]
    },
    {
      "cell_type": "code",
      "execution_count": 20,
      "metadata": {
        "id": "ogwn5mynPwrR"
      },
      "outputs": [],
      "source": [
        "learning = train[\"Survived\"]\n",
        "train = train.drop(\"Survived\", axis=1)\n",
        "scoring = \"accuracy\""
      ]
    },
    {
      "cell_type": "markdown",
      "metadata": {
        "id": "aME6z5DnPwrR"
      },
      "source": [
        "b. 모델 결과\n",
        "\n",
        "  + 6개의 모델에 대한 결과값을 표시한다.\n",
        "  + 가장 정확도가 높은 모델을 테스트 모델로 선정한다."
      ]
    },
    {
      "cell_type": "code",
      "execution_count": 21,
      "metadata": {
        "id": "zpWrdNuXPwrR"
      },
      "outputs": [
        {
          "name": "stdout",
          "output_type": "stream",
          "text": [
            "Logistic Regression :  79.98\n",
            "Decision Tree :  80.88\n",
            "SVC :  82.79\n",
            "Random Forest :  80.43\n",
            "Logistic Regression :  81.89\n",
            "Logistic Regression :  80.65\n"
          ]
        }
      ],
      "source": [
        "# 1. Logistic Regression\n",
        "model1 = LogisticRegression()\n",
        "score1 = cross_val_score(model1, train, learning, cv=kfold, n_jobs=1, scoring=scoring)\n",
        "result1 = round(np.mean(score1)*100, 2)\n",
        "print(\"Logistic Regression : \", result1)\n",
        "\n",
        "# 2. Decision Tree\n",
        "model2 = DecisionTreeClassifier()\n",
        "score2 = cross_val_score(model2, train, learning, cv=kfold, n_jobs=1, scoring=scoring)\n",
        "result2 = round(np.mean(score2)*100, 2)\n",
        "print(\"Decision Tree : \", result2)\n",
        "\n",
        "# 3. Support Vector Machine\n",
        "model3 = SVC()\n",
        "score3 = cross_val_score(model3, train, learning, cv=kfold, n_jobs=1, scoring=scoring)\n",
        "result3 = round(np.mean(score3)*100, 2)\n",
        "print(\"SVC : \", result3)\n",
        "\n",
        "# 4. Random Forest\n",
        "model4 = RandomForestClassifier(n_estimators = 13)\n",
        "score4 = cross_val_score(model4, train, learning, cv=kfold, n_jobs=1, scoring=scoring)\n",
        "result4 = round(np.mean(score4)*100, 2)\n",
        "print(\"Random Forest : \", result4)\n",
        "\n",
        "# 5. K Neighbors\n",
        "model5 = KNeighborsClassifier(n_neighbors = 13)\n",
        "score5 = cross_val_score(model5, train, learning, cv=kfold, n_jobs=1, scoring=scoring)\n",
        "result5 = round(np.mean(score5)*100, 2)\n",
        "print(\"Logistic Regression : \", result5)\n",
        "\n",
        "# 6. GaussianNB(Bayes)\n",
        "model6 = GaussianNB()\n",
        "score6 = cross_val_score(model6, train, learning, cv=kfold, n_jobs=1, scoring=scoring)\n",
        "result6 = round(np.mean(score6)*100, 2)\n",
        "print(\"Logistic Regression : \", result6)"
      ]
    },
    {
      "cell_type": "markdown",
      "metadata": {
        "id": "Dr1qrz4gPwrR"
      },
      "source": [
        "c. 모델 선정 후 테스트\n",
        "\n",
        "  + 정확도가 가장 높은 SVC를 선정한다.\n",
        "  + test 데이터 전처리 및 특징 공학 적용 후 테스트를 진행한다.\n",
        "  + 예측 결과를 result 데이터프레임에 담아서 결과를 확인한다."
      ]
    },
    {
      "cell_type": "code",
      "execution_count": 22,
      "metadata": {
        "id": "lVBhbAShPwrS"
      },
      "outputs": [
        {
          "data": {
            "text/html": [
              "<div>\n",
              "<style scoped>\n",
              "    .dataframe tbody tr th:only-of-type {\n",
              "        vertical-align: middle;\n",
              "    }\n",
              "\n",
              "    .dataframe tbody tr th {\n",
              "        vertical-align: top;\n",
              "    }\n",
              "\n",
              "    .dataframe thead th {\n",
              "        text-align: right;\n",
              "    }\n",
              "</style>\n",
              "<table border=\"1\" class=\"dataframe\">\n",
              "  <thead>\n",
              "    <tr style=\"text-align: right;\">\n",
              "      <th></th>\n",
              "      <th>PassengerId</th>\n",
              "      <th>Survived</th>\n",
              "    </tr>\n",
              "  </thead>\n",
              "  <tbody>\n",
              "    <tr>\n",
              "      <th>0</th>\n",
              "      <td>892</td>\n",
              "      <td>0</td>\n",
              "    </tr>\n",
              "    <tr>\n",
              "      <th>1</th>\n",
              "      <td>893</td>\n",
              "      <td>1</td>\n",
              "    </tr>\n",
              "    <tr>\n",
              "      <th>2</th>\n",
              "      <td>894</td>\n",
              "      <td>0</td>\n",
              "    </tr>\n",
              "    <tr>\n",
              "      <th>3</th>\n",
              "      <td>895</td>\n",
              "      <td>0</td>\n",
              "    </tr>\n",
              "    <tr>\n",
              "      <th>4</th>\n",
              "      <td>896</td>\n",
              "      <td>1</td>\n",
              "    </tr>\n",
              "  </tbody>\n",
              "</table>\n",
              "</div>"
            ],
            "text/plain": [
              "   PassengerId  Survived\n",
              "0          892         0\n",
              "1          893         1\n",
              "2          894         0\n",
              "3          895         0\n",
              "4          896         1"
            ]
          },
          "execution_count": 22,
          "metadata": {},
          "output_type": "execute_result"
        }
      ],
      "source": [
        "test_model = SVC()\n",
        "test_model.fit(train, learning)\n",
        "\n",
        "res = test.drop(\"PassengerId\", axis=1).copy()\n",
        "prediction = test_model.predict(res)\n",
        "\n",
        "result = pd.DataFrame({\"PassengerId\": test[\"PassengerId\"], \"Survived\": prediction})\n",
        "result.head()"
      ]
    },
    {
      "cell_type": "markdown",
      "metadata": {
        "id": "IKfZPXV-PwrS"
      },
      "source": [
        "# 6. 결론(Conclusion)"
      ]
    },
    {
      "cell_type": "markdown",
      "metadata": {
        "id": "zUpQzTK2U9GS"
      },
      "source": [
        "  i. 생존율\n",
        "\n",
        "    - 타이타닉 승객 중 약 38.38%가 생존하고 61.62%가 사망하였다.\n",
        "    - 생존율은 여성이 남성보다 높았으며, 나이가 어릴수록 생존율이 높았다.\n",
        "\n",
        "  ii. 화물칸 등급별 생존율:    \n",
        "\n",
        "    - 등급이 높을수록 생존율이 높았다.\n",
        "\n",
        "  iii. 나이와 생존율\n",
        "\n",
        "    - 나이가 어린 승객들의 생존율이 높았다.\n",
        "    - 15세 미만의 어린이들의 생존율이 가장 높았다.\n",
        "\n",
        "  iv. 가족관계와 생존율\n",
        "\n",
        "    - 가족과 함께 탑승한 승객들의 생존율이 가족 없이 혼자 탑승한 승객보다 높았다.\n",
        "    - 3명의 가족과 함께 탑승한 경우 생존율이 가장 높게 나왔다.\n",
        "\n",
        "  v. 선실(Cabin) 정보\n",
        "\n",
        "    - 결측값이 많아서 선실 정보로는 정확한 분석이 어려웠다.\n",
        "    - 따라서 생존 여부와의 강한 상관관계를 찾기에는 어려운 것으로 판단된다.\n",
        "\n",
        "  vi. 이니셜(Initial) 정보\n",
        "\n",
        "    - 승객의 이름에서 추출한 이니셜 정보를 활용하여 성별과 연관짓는다.\n",
        "    - 해당 정보를 이용하여 생존율을 확인할 수 있다.\n",
        "\n",
        "  vii. 머신러닝 모델\n",
        "\n",
        "    - 머신러닝 모델을 통해 예측된 생존 여부는 다양한 특성들을 기반으로 예측이 진행된다.\n",
        "    - 위의 결과는 모델의 성능 및 모델 종류, 그리고 하이퍼파라미터에 따라 결과는 달라질 수 있다."
      ]
    },
    {
      "cell_type": "markdown",
      "metadata": {
        "id": "dc3wJzU4T_hq"
      },
      "source": [
        "# 7. 기타사항(Etc)"
      ]
    },
    {
      "cell_type": "markdown",
      "metadata": {
        "id": "5EHaSvuDUNOb"
      },
      "source": [
        "a. 참고 문서\n",
        "\n",
        "  + [Kaggle/Titanic](https://www.kaggle.com/competitions/titanic)\n",
        "  + [khusw_study/융합연구](https://github.com/SeoroMin/khusw_study/blob/master/%EC%9C%B5%ED%95%A9%EC%97%B0%EA%B5%AC/titanic.ipynb)"
      ]
    }
  ],
  "metadata": {
    "accelerator": "GPU",
    "colab": {
      "gpuType": "T4",
      "provenance": []
    },
    "kernelspec": {
      "display_name": "Python 3",
      "name": "python3"
    },
    "language_info": {
      "codemirror_mode": {
        "name": "ipython",
        "version": 3
      },
      "file_extension": ".py",
      "mimetype": "text/x-python",
      "name": "python",
      "nbconvert_exporter": "python",
      "pygments_lexer": "ipython3",
      "version": "3.11.5"
    },
    "orig_nbformat": 4
  },
  "nbformat": 4,
  "nbformat_minor": 0
}
